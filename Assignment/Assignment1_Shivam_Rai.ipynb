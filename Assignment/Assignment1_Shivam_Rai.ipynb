{
 "cells": [
  {
   "cell_type": "markdown",
   "id": "4aad3e4a",
   "metadata": {},
   "source": [
    "#  Python Basic Assignment 1\n",
    "         - Shivam Rai"
   ]
  },
  {
   "cell_type": "markdown",
   "id": "dec0ea2c",
   "metadata": {},
   "source": [
    "1. In the below elements which of them are values or an expression? eg:- values can be\n",
    "integer or string and expressions will be mathematical operators.\n",
    "\n",
    "*, 'hello', -87.8, -, /, +, 6"
   ]
  },
  {
   "cell_type": "code",
   "execution_count": 15,
   "id": "031aa8b2",
   "metadata": {},
   "outputs": [
    {
     "name": "stdout",
     "output_type": "stream",
     "text": [
      "1) * is an expression which perform multiplication operation on operands eg : 2*2= 4\n",
      "2) 'hello' is an value and its type is: <class 'str'>\n",
      "3) -87.8 is a value and its type is: <class 'float'>\n",
      "4) - is an expression which perform substraction operation on operands eg :5-2= 3\n",
      "5) / is an expression which perform division opeartion on operands eg: 10/2= 5.0\n",
      "6) + is an expression which perform addition opeartion on operands eg: 5+5= 10\n",
      "7) 6 is an value and its type is: <class 'int'>\n"
     ]
    }
   ],
   "source": [
    "print(\"1) * is an expression which perform multiplication operation on operands eg : 2*2=\",2*2)\n",
    "print(\"2) 'hello' is an value and its type is:\",type('hello'))\n",
    "print(\"3) -87.8 is a value and its type is:\",type(-87.8))\n",
    "print(\"4) - is an expression which perform substraction operation on operands eg :5-2=\",5-2)\n",
    "print(\"5) / is an expression which perform division opeartion on operands eg: 10/2=\",10/2)\n",
    "print(\"6) + is an expression which perform addition opeartion on operands eg: 5+5=\",5+5)\n",
    "print(\"7) 6 is an value and its type is:\",type(6))"
   ]
  },
  {
   "cell_type": "markdown",
   "id": "021cd13b",
   "metadata": {},
   "source": [
    "2. What is the difference between string and variable?\n",
    "\n",
    "A. The Difference between string and variable is that string is a collection of characters and string can be denoted by \n",
    "double quotes (\"\") or single quotes('') under the quotes we can write the characters it will treat as string in python.\n",
    "An eg of string is \"Hello My name is Shivam\" \n",
    "\n",
    "while variable can store the data in it and data can be of any type eg:string,int,list,dict,etc. \n",
    "variable have some naming rule which are:\n",
    "     A variable name must start with a letter or the underscore character\n",
    "     A variable name cannot start with a number\n",
    "     A variable name can only contain alpha-numeric characters and underscores (A-z, 0-9, and _ )\n",
    "     Variable names are case-sensitive (age, Age and AGE are three different variables)\n",
    " \n",
    " Eg of defining variable name \n",
    "myvar = \"John\", my_var = \"John\", _my_var = \"John\", myVar = \"John\" ,MYVAR = \"John\", myvar2 = \"John\""
   ]
  },
  {
   "cell_type": "markdown",
   "id": "346321e7",
   "metadata": {},
   "source": [
    "3. Describe three different data types.\n",
    "\n",
    "A. 1) String is in-built datatype in python which is denoted by either double quotes or single quotes\n",
    "\n",
    "Assigning a string to a variable is done with the variable name followed by an equal sign and the string:\n",
    "a = \"Hello\"\n",
    "\n",
    "2)Integer is also a in-built datatype in python Which is a whole number, positive or negative, without decimals, of unlimited length. \n",
    "\n",
    "Assigning a Integer to a variable is done with the variable name followed by an equal sign and the Integer:\n",
    "a = 10\n",
    "\n",
    "3)Float, or \"floating point number\" is a number, positive or negative, containing one or more decimals.\n",
    "\n",
    "Assigning a Float to a variable is done with the variable name followed by an equal sign and the Float:\n",
    "a = 25.5"
   ]
  },
  {
   "cell_type": "code",
   "execution_count": 26,
   "id": "878bfa30",
   "metadata": {},
   "outputs": [
    {
     "name": "stdout",
     "output_type": "stream",
     "text": [
      "Examples of Data types \n",
      "\n",
      "Hello\n",
      "<class 'str'> \n",
      "\n",
      "X = 1  and type is : <class 'int'> \n",
      "\n",
      "Y = 2.8  and type is : <class 'float'>\n"
     ]
    }
   ],
   "source": [
    "print(\"Examples of Data types \\n\")\n",
    "\n",
    "print(\"Hello\")\n",
    "print(type('Hello'),'\\n')\n",
    "\n",
    "x = 1 \n",
    "print(\"X =\",x,\" and type is :\",type(x),\"\\n\")\n",
    "\n",
    "y = 2.8 \n",
    "print(\"Y =\",y,\" and type is :\",type(y))"
   ]
  },
  {
   "cell_type": "markdown",
   "id": "fef7748c",
   "metadata": {},
   "source": [
    "4. What is an expression made up of? What do all expressions do?\n",
    "\n",
    "A. An expression is a combination of values, variables, operators, and calls to functions. Expressions need to be evaluated. If we ask Python to print an expression, the interpreter evaluates the expression and displays the result. An expression is evaluated as per the precedence of its operators. So that if there is more than one operator in an expression, their precedence decides which operation will be performed first."
   ]
  },
  {
   "cell_type": "code",
   "execution_count": 1,
   "id": "736263dc",
   "metadata": {},
   "outputs": [
    {
     "data": {
      "text/plain": [
       "20"
      ]
     },
     "execution_count": 1,
     "metadata": {},
     "output_type": "execute_result"
    }
   ],
   "source": [
    "5*4+50-50 # Is an Expression, The Python Interpreter Evaluates it to 20"
   ]
  },
  {
   "cell_type": "markdown",
   "id": "d8e1aee2",
   "metadata": {},
   "source": [
    "5.This assignment statements, like spam = 10. What is the difference between an expression and a statement?\n",
    "Ans: An expression is a combination of values, variables, and operators.When we type an expression at the prompt, the interpreter evaluates it, which means that it finds the value of the expression.An expression is evaluated as per the precedence of its operators. So that if there is more than one operator in an expression, their precedence decides which operation will be performed first.\n",
    "\n",
    "eg: 5*4+50-50 is an example of a expression\n",
    "\n",
    "A statement is a unit of code that has an effect, like creating a variable or displaying a value.When we type a statement, the interpreter executes it, which means that it does whatever the statement says. In general, statements don’t have values. A statement is an instruction that a Python interpreter can execute. There are mainly four types of statements in Python, Print statements, Assignment statements, Conditional statements and Looping statements.\n",
    "\n",
    "eg: courseName = 'Yay!! I am going to be a data scientist', spam = 10"
   ]
  },
  {
   "cell_type": "code",
   "execution_count": 2,
   "id": "73d30902",
   "metadata": {},
   "outputs": [
    {
     "name": "stdout",
     "output_type": "stream",
     "text": [
      "iNeuron\n"
     ]
    }
   ],
   "source": [
    "#Example:\n",
    "5*4+50-50 # Is a Expression\n",
    "courseName = 'Yay!! I am going to be a data scientist' # Is a Statement\n",
    "print(\"iNeuron\") # Is a Expression Statement"
   ]
  },
  {
   "cell_type": "markdown",
   "id": "bdc24456",
   "metadata": {},
   "source": [
    "6.After running the following code, what does the variable bacon contain?\n",
    "bacon = 22\n",
    "bacon + 1\n",
    "\n",
    "Ans: The variable bacon is set to 22 .The expression bacon + 1 does not reassign the value in bacon (that would the case if the expression is like bacon = bacon + 1 instead of bacon + 1)"
   ]
  },
  {
   "cell_type": "code",
   "execution_count": 3,
   "id": "3710e4a8",
   "metadata": {},
   "outputs": [
    {
     "name": "stdout",
     "output_type": "stream",
     "text": [
      "22\n"
     ]
    }
   ],
   "source": [
    "# Example Case#1\n",
    "bacon=22\n",
    "bacon + 1\n",
    "print(bacon)"
   ]
  },
  {
   "cell_type": "code",
   "execution_count": 4,
   "id": "32ac5448",
   "metadata": {},
   "outputs": [
    {
     "name": "stdout",
     "output_type": "stream",
     "text": [
      "23\n"
     ]
    }
   ],
   "source": [
    "#Example Case#2\n",
    "bacon=22\n",
    "bacon=bacon+1 \n",
    "print(bacon)"
   ]
  },
  {
   "cell_type": "markdown",
   "id": "c0785211",
   "metadata": {},
   "source": [
    "7.What should the values of the following two terms be?\n",
    "'spam'+'spamspam'\n",
    "'spam'*3\n",
    "\n",
    "Ans: Both expressions evaluate to the string 'spamspamspam' Where as the first expression follows String Concatentation and the second expression follows String Multiplication"
   ]
  },
  {
   "cell_type": "code",
   "execution_count": 5,
   "id": "cea0d41a",
   "metadata": {},
   "outputs": [
    {
     "name": "stdout",
     "output_type": "stream",
     "text": [
      "spamspamspam\n",
      "spamspamspam\n"
     ]
    }
   ],
   "source": [
    "print('spam'+'spamspam') # string concatenation\n",
    "print('spam'*3) # string multiplication"
   ]
  },
  {
   "cell_type": "markdown",
   "id": "925ac437",
   "metadata": {},
   "source": [
    "8. Why is eggs a valid variable name while 100 is invalid?\n",
    "Ans: As per python,Variable names cannot begin with a number. The python rules for naming a variable are :-\n",
    "\n",
    "Variable name must start with a letter or the underscore character.\n",
    "Variable name cannot start with a number.\n",
    "Variable name can only contain alpha-numeric characters and underscores (A-z, 0-9, & _ ).\n",
    "Variable names are case-sensitive (name, GAURAV and gaurav are three different variables).\n",
    "The reserved words(keywords) cannot be used naming the variable."
   ]
  },
  {
   "cell_type": "code",
   "execution_count": 7,
   "id": "3d628829",
   "metadata": {},
   "outputs": [
    {
     "ename": "SyntaxError",
     "evalue": "cannot assign to literal (3588293390.py, line 2)",
     "output_type": "error",
     "traceback": [
      "\u001b[1;36m  Input \u001b[1;32mIn [7]\u001b[1;36m\u001b[0m\n\u001b[1;33m    100='hello' # Invalid Variable Initilization\u001b[0m\n\u001b[1;37m    ^\u001b[0m\n\u001b[1;31mSyntaxError\u001b[0m\u001b[1;31m:\u001b[0m cannot assign to literal\n"
     ]
    }
   ],
   "source": [
    "egg='Gaurav' # Valid variable Initilization\n",
    "100='hello' # Invalid Variable Initilization\n",
    "print(egg) #prints the value of egg ie Ineuron\n",
    "print(100) # Raises a Syntax Error as 100 is not a valid variable name"
   ]
  },
  {
   "cell_type": "markdown",
   "id": "7309f977",
   "metadata": {},
   "source": [
    "9.What three functions can be used to get the integer,floating-point number,or string version of a value?\n",
    "Ans: The int(),float(),and str() functions will evaluate to the integer,floating-point number,string version of the value passed to them."
   ]
  },
  {
   "cell_type": "code",
   "execution_count": 8,
   "id": "934bb3e1",
   "metadata": {},
   "outputs": [
    {
     "name": "stdout",
     "output_type": "stream",
     "text": [
      "int(10.0) ->  10\n",
      "float(10) ->  10.0\n",
      "str(10) ->  10\n"
     ]
    }
   ],
   "source": [
    "# Examples:\n",
    "print('int(10.0) -> ',int(10.0)) # int() function converts given input to int\n",
    "print('float(10) -> ',float(10)) # float() function converts given input to float\n",
    "print('str(10) -> ',str(10)) # str() function converts given input to string"
   ]
  },
  {
   "cell_type": "markdown",
   "id": "cd4fb2d9",
   "metadata": {},
   "source": [
    "10.Why does this expression cause an error? how can you fix it?\n",
    "'I have eaten ' + 99 + 'burritos.'"
   ]
  },
  {
   "cell_type": "code",
   "execution_count": 9,
   "id": "66445173",
   "metadata": {},
   "outputs": [
    {
     "name": "stdout",
     "output_type": "stream",
     "text": [
      "I have eaten 99 burritos\n"
     ]
    }
   ],
   "source": [
    "print('I have eaten '+str(99)+' burritos')"
   ]
  }
 ],
 "metadata": {
  "kernelspec": {
   "display_name": "Python 3 (ipykernel)",
   "language": "python",
   "name": "python3"
  },
  "language_info": {
   "codemirror_mode": {
    "name": "ipython",
    "version": 3
   },
   "file_extension": ".py",
   "mimetype": "text/x-python",
   "name": "python",
   "nbconvert_exporter": "python",
   "pygments_lexer": "ipython3",
   "version": "3.9.12"
  }
 },
 "nbformat": 4,
 "nbformat_minor": 5
}
