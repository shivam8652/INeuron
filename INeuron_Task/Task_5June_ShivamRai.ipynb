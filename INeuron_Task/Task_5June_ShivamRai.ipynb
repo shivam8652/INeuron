{
 "cells": [
  {
   "cell_type": "markdown",
   "id": "047c957b",
   "metadata": {},
   "source": [
    "\n",
    "#  Function Task INeuron (5 jun 2022) \n",
    "                                    - Shivam Rai"
   ]
  },
  {
   "cell_type": "code",
   "execution_count": 2,
   "id": "2302b1c9",
   "metadata": {},
   "outputs": [],
   "source": [
    "import sys"
   ]
  },
  {
   "cell_type": "markdown",
   "id": "c58cbfd1",
   "metadata": {},
   "source": [
    "Q1 Prime Number in between 1 to 1000"
   ]
  },
  {
   "cell_type": "code",
   "execution_count": 3,
   "id": "eca1dafb",
   "metadata": {},
   "outputs": [],
   "source": [
    "def prime_number():\n",
    "    for num in range(2,1001):\n",
    "        if num > 1:\n",
    "            for i in range(2,num):\n",
    "                if num % i == 0:\n",
    "                    break\n",
    "            else:\n",
    "                print(num)"
   ]
  },
  {
   "cell_type": "code",
   "execution_count": 4,
   "id": "81fe6f36",
   "metadata": {},
   "outputs": [
    {
     "name": "stdout",
     "output_type": "stream",
     "text": [
      "2\n",
      "3\n",
      "5\n",
      "7\n",
      "11\n",
      "13\n",
      "17\n",
      "19\n",
      "23\n",
      "29\n",
      "31\n",
      "37\n",
      "41\n",
      "43\n",
      "47\n",
      "53\n",
      "59\n",
      "61\n",
      "67\n",
      "71\n",
      "73\n",
      "79\n",
      "83\n",
      "89\n",
      "97\n",
      "101\n",
      "103\n",
      "107\n",
      "109\n",
      "113\n",
      "127\n",
      "131\n",
      "137\n",
      "139\n",
      "149\n",
      "151\n",
      "157\n",
      "163\n",
      "167\n",
      "173\n",
      "179\n",
      "181\n",
      "191\n",
      "193\n",
      "197\n",
      "199\n",
      "211\n",
      "223\n",
      "227\n",
      "229\n",
      "233\n",
      "239\n",
      "241\n",
      "251\n",
      "257\n",
      "263\n",
      "269\n",
      "271\n",
      "277\n",
      "281\n",
      "283\n",
      "293\n",
      "307\n",
      "311\n",
      "313\n",
      "317\n",
      "331\n",
      "337\n",
      "347\n",
      "349\n",
      "353\n",
      "359\n",
      "367\n",
      "373\n",
      "379\n",
      "383\n",
      "389\n",
      "397\n",
      "401\n",
      "409\n",
      "419\n",
      "421\n",
      "431\n",
      "433\n",
      "439\n",
      "443\n",
      "449\n",
      "457\n",
      "461\n",
      "463\n",
      "467\n",
      "479\n",
      "487\n",
      "491\n",
      "499\n",
      "503\n",
      "509\n",
      "521\n",
      "523\n",
      "541\n",
      "547\n",
      "557\n",
      "563\n",
      "569\n",
      "571\n",
      "577\n",
      "587\n",
      "593\n",
      "599\n",
      "601\n",
      "607\n",
      "613\n",
      "617\n",
      "619\n",
      "631\n",
      "641\n",
      "643\n",
      "647\n",
      "653\n",
      "659\n",
      "661\n",
      "673\n",
      "677\n",
      "683\n",
      "691\n",
      "701\n",
      "709\n",
      "719\n",
      "727\n",
      "733\n",
      "739\n",
      "743\n",
      "751\n",
      "757\n",
      "761\n",
      "769\n",
      "773\n",
      "787\n",
      "797\n",
      "809\n",
      "811\n",
      "821\n",
      "823\n",
      "827\n",
      "829\n",
      "839\n",
      "853\n",
      "857\n",
      "859\n",
      "863\n",
      "877\n",
      "881\n",
      "883\n",
      "887\n",
      "907\n",
      "911\n",
      "919\n",
      "929\n",
      "937\n",
      "941\n",
      "947\n",
      "953\n",
      "967\n",
      "971\n",
      "977\n",
      "983\n",
      "991\n",
      "997\n"
     ]
    }
   ],
   "source": [
    "prime_number()"
   ]
  },
  {
   "cell_type": "markdown",
   "id": "d252478a",
   "metadata": {},
   "source": [
    "Q2 Function equvialent to print function in python \n",
    "\n",
    "\n",
    "\n",
    "\n",
    "\n"
   ]
  },
  {
   "cell_type": "code",
   "execution_count": 5,
   "id": "9e5e6324",
   "metadata": {},
   "outputs": [],
   "source": [
    "def print1(*args):\n",
    "    for i in args:\n",
    "        sys.stdout.write(str(i))"
   ]
  },
  {
   "cell_type": "code",
   "execution_count": 6,
   "id": "5d31bd39",
   "metadata": {},
   "outputs": [],
   "source": [
    "a = {\"hello\":\"world\"}"
   ]
  },
  {
   "cell_type": "code",
   "execution_count": 7,
   "id": "15382171",
   "metadata": {},
   "outputs": [
    {
     "name": "stdout",
     "output_type": "stream",
     "text": [
      "{'hello': 'world'}"
     ]
    }
   ],
   "source": [
    "print1(a)"
   ]
  },
  {
   "cell_type": "markdown",
   "id": "e52ccae2",
   "metadata": {},
   "source": [
    "Q3 Replica of list append,extend,pop function "
   ]
  },
  {
   "cell_type": "code",
   "execution_count": 78,
   "id": "b04dd492",
   "metadata": {},
   "outputs": [],
   "source": [
    "# creating append function \n",
    "\n",
    "def self_append(user_list,args):\n",
    "    \n",
    "    if type(user_list) == list:\n",
    "        \n",
    "        last_index = len(user_list)\n",
    "        new_list = [None] * (last_index+1)\n",
    "        for i in range(0,last_index):\n",
    "            new_list[i] = user_list[i]\n",
    "        new_list[last_index] = args\n",
    "        \n",
    "        return new_list\n",
    "    \n",
    "    else:\n",
    "        print(\"Error the list is to append is not a list type!\")\n",
    "    \n",
    "    "
   ]
  },
  {
   "cell_type": "code",
   "execution_count": 9,
   "id": "78ac8c6f",
   "metadata": {},
   "outputs": [],
   "source": [
    "l = [\"hello\",\"world\"]\n",
    "l = self_append(l,[\"hello\",\"another\",\"list\"])"
   ]
  },
  {
   "cell_type": "code",
   "execution_count": 10,
   "id": "ec2089d2",
   "metadata": {},
   "outputs": [
    {
     "name": "stdout",
     "output_type": "stream",
     "text": [
      "['hello', 'world', ['hello', 'another', 'list']]"
     ]
    }
   ],
   "source": [
    "print1(l)"
   ]
  },
  {
   "cell_type": "code",
   "execution_count": 184,
   "id": "1e99ccdb",
   "metadata": {},
   "outputs": [],
   "source": [
    "# creating extend function \n",
    "\n",
    "def self_extend(user_list,args):\n",
    "    if isinstance(user_list,type(list)):\n",
    "        if isinstance(args,str) or isinstance(args,type(list)) or isinstance(args,tuple) or isinstance(args,dict) or isinstance(args,set) :\n",
    "            for i in args:\n",
    "                user_list.append(i)\n",
    "            return user_list\n",
    "        else:\n",
    "            print(\"argument passed is not iterable!\")\n",
    "    else:\n",
    "        print(\"The list is passed is not list type!\")\n",
    "            "
   ]
  },
  {
   "cell_type": "code",
   "execution_count": 191,
   "id": "e35ace2b",
   "metadata": {},
   "outputs": [],
   "source": [
    "l = []\n",
    "l = self_extend(l,\"hello\")"
   ]
  },
  {
   "cell_type": "code",
   "execution_count": 192,
   "id": "60468148",
   "metadata": {},
   "outputs": [
    {
     "data": {
      "text/plain": [
       "['h', 'e', 'l', 'l', 'o']"
      ]
     },
     "execution_count": 192,
     "metadata": {},
     "output_type": "execute_result"
    }
   ],
   "source": [
    "l"
   ]
  },
  {
   "cell_type": "code",
   "execution_count": 308,
   "id": "0dcb120e",
   "metadata": {},
   "outputs": [],
   "source": [
    "# creating pop function \n",
    "\n",
    "def self_pop(user_list,index=\"none\"):\n",
    "    \n",
    "    if type(user_list) == list:\n",
    "        \n",
    "        if len(user_list) == 0:\n",
    "            \n",
    "            print(\"Cannot Perform Pop operation List is empty!\")\n",
    "            \n",
    "        elif len(user_list) == 1:\n",
    "            new_list = []\n",
    "            return new_list \n",
    "        \n",
    "        else:\n",
    "            \n",
    "            if index == \"none\":\n",
    "                last_index_value = (len(user_list)-1)\n",
    "                \n",
    "            elif index < 0:\n",
    "                \n",
    "                negative_max_index = -abs(len(user_list))\n",
    "                if index < negative_max_index:\n",
    "                    print(\"Error Index Out of range!\")\n",
    "                    return\n",
    "                \n",
    "                else:\n",
    "                    last_index_value = index\n",
    "                \n",
    "            else:\n",
    "                if index > (len(user_list)-1):\n",
    "                    print(\"Error Index Out of range!\")\n",
    "                    return\n",
    "                \n",
    "                else:\n",
    "                    last_index_value = index\n",
    "                \n",
    "            new_list = []\n",
    "            \n",
    "            if last_index_value >=0:\n",
    "                for i in range(0,len(user_list)):\n",
    "                    if i == last_index_value :\n",
    "                        pass\n",
    "                    else:\n",
    "                        new_list.append(user_list[i])\n",
    "                return new_list\n",
    "            \n",
    "            else:\n",
    "                ranges = (-abs(len(user_list))-1)\n",
    "                for i in range(-1,ranges,-1):\n",
    "                    if i == last_index_value:\n",
    "                        pass\n",
    "                    else:\n",
    "                        new_list.append(user_list[i])\n",
    "                new_list.reverse()\n",
    "                return new_list\n",
    "            \n",
    "        \n",
    "        \n",
    "    else:\n",
    "        print(\"List Error the given argument is not a list type!\")"
   ]
  },
  {
   "cell_type": "code",
   "execution_count": 283,
   "id": "892de086",
   "metadata": {},
   "outputs": [],
   "source": [
    "l = ['hello',\"world\",\"how\"]"
   ]
  },
  {
   "cell_type": "code",
   "execution_count": 284,
   "id": "f284f1cc",
   "metadata": {},
   "outputs": [],
   "source": [
    "l = self_pop(l,1)"
   ]
  },
  {
   "cell_type": "code",
   "execution_count": 285,
   "id": "ff1c9eb7",
   "metadata": {},
   "outputs": [
    {
     "data": {
      "text/plain": [
       "['hello', 'how']"
      ]
     },
     "execution_count": 285,
     "metadata": {},
     "output_type": "execute_result"
    }
   ],
   "source": [
    "l"
   ]
  },
  {
   "cell_type": "code",
   "execution_count": 286,
   "id": "bd7467ba",
   "metadata": {},
   "outputs": [],
   "source": [
    "l = self_pop(l,-2)"
   ]
  },
  {
   "cell_type": "code",
   "execution_count": 287,
   "id": "2ec484e9",
   "metadata": {},
   "outputs": [
    {
     "data": {
      "text/plain": [
       "['how']"
      ]
     },
     "execution_count": 287,
     "metadata": {},
     "output_type": "execute_result"
    }
   ],
   "source": [
    "l"
   ]
  },
  {
   "cell_type": "markdown",
   "id": "e05d277d",
   "metadata": {},
   "source": [
    "Q4 lamda function to concat all the string passed"
   ]
  },
  {
   "cell_type": "code",
   "execution_count": 303,
   "id": "953bbd99",
   "metadata": {},
   "outputs": [],
   "source": [
    "string_conc = lambda *args : ''.join(args)"
   ]
  },
  {
   "cell_type": "code",
   "execution_count": 304,
   "id": "9a57b354",
   "metadata": {},
   "outputs": [
    {
     "data": {
      "text/plain": [
       "'helloworldshivam'"
      ]
     },
     "execution_count": 304,
     "metadata": {},
     "output_type": "execute_result"
    }
   ],
   "source": [
    "string_conc(\"hello\",\"world\",\"shivam\")"
   ]
  },
  {
   "cell_type": "markdown",
   "id": "7028651b",
   "metadata": {},
   "source": [
    "Q5 lamda function to square of 1 to 100 numbers "
   ]
  },
  {
   "cell_type": "code",
   "execution_count": 305,
   "id": "15a6415b",
   "metadata": {},
   "outputs": [],
   "source": [
    "square = lambda a=1,b=100:[i*i for i in range(a,b)]"
   ]
  },
  {
   "cell_type": "code",
   "execution_count": 306,
   "id": "e93f4c8b",
   "metadata": {},
   "outputs": [
    {
     "data": {
      "text/plain": [
       "[1,\n",
       " 4,\n",
       " 9,\n",
       " 16,\n",
       " 25,\n",
       " 36,\n",
       " 49,\n",
       " 64,\n",
       " 81,\n",
       " 100,\n",
       " 121,\n",
       " 144,\n",
       " 169,\n",
       " 196,\n",
       " 225,\n",
       " 256,\n",
       " 289,\n",
       " 324,\n",
       " 361,\n",
       " 400,\n",
       " 441,\n",
       " 484,\n",
       " 529,\n",
       " 576,\n",
       " 625,\n",
       " 676,\n",
       " 729,\n",
       " 784,\n",
       " 841,\n",
       " 900,\n",
       " 961,\n",
       " 1024,\n",
       " 1089,\n",
       " 1156,\n",
       " 1225,\n",
       " 1296,\n",
       " 1369,\n",
       " 1444,\n",
       " 1521,\n",
       " 1600,\n",
       " 1681,\n",
       " 1764,\n",
       " 1849,\n",
       " 1936,\n",
       " 2025,\n",
       " 2116,\n",
       " 2209,\n",
       " 2304,\n",
       " 2401,\n",
       " 2500,\n",
       " 2601,\n",
       " 2704,\n",
       " 2809,\n",
       " 2916,\n",
       " 3025,\n",
       " 3136,\n",
       " 3249,\n",
       " 3364,\n",
       " 3481,\n",
       " 3600,\n",
       " 3721,\n",
       " 3844,\n",
       " 3969,\n",
       " 4096,\n",
       " 4225,\n",
       " 4356,\n",
       " 4489,\n",
       " 4624,\n",
       " 4761,\n",
       " 4900,\n",
       " 5041,\n",
       " 5184,\n",
       " 5329,\n",
       " 5476,\n",
       " 5625,\n",
       " 5776,\n",
       " 5929,\n",
       " 6084,\n",
       " 6241,\n",
       " 6400,\n",
       " 6561,\n",
       " 6724,\n",
       " 6889,\n",
       " 7056,\n",
       " 7225,\n",
       " 7396,\n",
       " 7569,\n",
       " 7744,\n",
       " 7921,\n",
       " 8100,\n",
       " 8281,\n",
       " 8464,\n",
       " 8649,\n",
       " 8836,\n",
       " 9025,\n",
       " 9216,\n",
       " 9409,\n",
       " 9604,\n",
       " 9801]"
      ]
     },
     "execution_count": 306,
     "metadata": {},
     "output_type": "execute_result"
    }
   ],
   "source": [
    "square()"
   ]
  },
  {
   "cell_type": "markdown",
   "id": "e31aa74b",
   "metadata": {},
   "source": [
    "Q6 10 Different examples of lambda function"
   ]
  },
  {
   "cell_type": "code",
   "execution_count": 77,
   "id": "e32a9d92",
   "metadata": {},
   "outputs": [
    {
     "name": "stdout",
     "output_type": "stream",
     "text": [
      "Addition of two number is =  3\n",
      "Difference of two number is =  1\n",
      "Multiplication of two number is =  10\n",
      "Division of two number is =  5.0\n",
      "Reminder of two number is =  0\n",
      "Cube is = 27\n",
      "Hello world\n",
      "Table of 10 :\n",
      "10\n",
      "20\n",
      "30\n",
      "40\n",
      "50\n",
      "60\n",
      "70\n",
      "80\n",
      "90\n",
      "100\n",
      "Maximum Number is =  2\n",
      "Minimum Number is = 1\n"
     ]
    }
   ],
   "source": [
    "#1\n",
    "adder = lambda x, y : x + y\n",
    "print (\"Addition of two number is = \",adder(1, 2))\n",
    "\n",
    "#2\n",
    "sub = lambda x,y : x - y\n",
    "print(\"Difference of two number is = \",sub(2,1))\n",
    "\n",
    "#3\n",
    "mul = lambda x,y : x * y\n",
    "print(\"Multiplication of two number is = \",mul(2,5))\n",
    "\n",
    "#4\n",
    "div = lambda x,y : x / y\n",
    "print(\"Division of two number is = \",div(10,2))\n",
    "\n",
    "#5\n",
    "modulo = lambda x,y : x % y\n",
    "print(\"Reminder of two number is = \",modulo(10,5))\n",
    "\n",
    "#6\n",
    "lambda_cube = lambda y: y*y*y\n",
    "print(\"Cube is =\",lambda_cube(3))\n",
    "\n",
    "#7\n",
    "x =\"Hello world\"\n",
    "y = lambda x : print(x) \n",
    "y(x)\n",
    "\n",
    "#8\n",
    "print(\"Table of 10 :\")\n",
    "tables = [lambda x=x: x*10 for x in range(1, 11)]\n",
    "for table in tables:\n",
    "    print(table())\n",
    "\n",
    "#9    \n",
    "Max = lambda a, b : a if(a > b) else b\n",
    "print(\"Maximum Number is = \",Max(1, 2))\n",
    "\n",
    "#10\n",
    "Min = lambda a,b : a if(a < b) else b\n",
    "print(\"Minimum Number is =\",Min(1,2))"
   ]
  },
  {
   "cell_type": "markdown",
   "id": "45077385",
   "metadata": {},
   "source": [
    "Q7 Creating function to read file"
   ]
  },
  {
   "cell_type": "code",
   "execution_count": 70,
   "id": "b6f7f691",
   "metadata": {},
   "outputs": [],
   "source": [
    "import os\n",
    "def read_file(file_name_or_location):\n",
    "    file_extension = \"\"\n",
    "    \n",
    "    if type(file_name_or_location) == str:\n",
    "        split_tup = os.path.splitext(file_name_or_location)\n",
    "        file_extension = split_tup[1]\n",
    "        \n",
    "        \n",
    "        if file_extension ==\".txt\":\n",
    "            try:\n",
    "                f = open(file_name_or_location, \"r\")\n",
    "                return f.read()\n",
    "            \n",
    "            except IOError:\n",
    "                return \"Error: can\\'t find file or read data\"\n",
    "                \n",
    "        else:\n",
    "            return \"Please pass .txt file as an input\"\n",
    "    else:\n",
    "        return \"Pass File name or location in string\""
   ]
  },
  {
   "cell_type": "code",
   "execution_count": 76,
   "id": "a93c131d",
   "metadata": {},
   "outputs": [
    {
     "name": "stdout",
     "output_type": "stream",
     "text": [
      "hello \n"
     ]
    }
   ],
   "source": [
    "print(read_file(\"C:/Users/raish/OneDrive/Desktop/demo.txt\"))"
   ]
  }
 ],
 "metadata": {
  "kernelspec": {
   "display_name": "Python 3",
   "language": "python",
   "name": "python3"
  },
  "language_info": {
   "codemirror_mode": {
    "name": "ipython",
    "version": 3
   },
   "file_extension": ".py",
   "mimetype": "text/x-python",
   "name": "python",
   "nbconvert_exporter": "python",
   "pygments_lexer": "ipython3",
   "version": "3.8.8"
  }
 },
 "nbformat": 4,
 "nbformat_minor": 5
}
